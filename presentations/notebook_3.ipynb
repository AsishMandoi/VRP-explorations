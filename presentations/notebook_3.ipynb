{
 "cells": [
  {
   "cell_type": "markdown",
   "metadata": {
    "slideshow": {
     "slide_type": "slide"
    }
   },
   "source": [
    "## Route Activation Solver (RAS)\n",
    "\n",
    "Explored multiple ways to make this solver work perfectly"
   ]
  },
  {
   "cell_type": "markdown",
   "metadata": {
    "slideshow": {
     "slide_type": "slide"
    }
   },
   "source": [
    "### Approach 1:\n",
    "\n",
    "**Minimize:**\n",
    "$$C = \\sum_{i=0}^N \\sum_{j=0,\\ j \\neq i}^N C_{i,j} x_{ij}$$\n",
    "\n",
    "where $x_{ij}$ is a binary descision varible and $C_{ij}$ is the cost (or weight) associated with the edge connecting node $i$ and node $j$\n",
    "\n",
    "$$x_{ij} = \n",
    "\\left\\{\\begin{matrix}\n",
    "1; & if\\ there\\ exists\\ a\\ path\\ from\\ the\\ i^{th}\\ node\\ to\\ the\\ j^{th}\\ node\\\\\n",
    "0; & otherwise.\n",
    "\\end{matrix}\\right.$$"
   ]
  },
  {
   "cell_type": "markdown",
   "metadata": {
    "slideshow": {
     "slide_type": "slide"
    }
   },
   "source": [
    "**Subject to the following constraints**"
   ]
  },
  {
   "cell_type": "markdown",
   "metadata": {
    "slideshow": {
     "slide_type": "subslide"
    }
   },
   "source": [
    "  1. Each node other than the depot has exactly $1$ outgoing active edge and exactly $1$ incoming active edge.\n",
    "\n",
    "$$\\sum_{j=0,\\ j\\neq i}^N x_{ij} = 1, \\sum_{j=0,\\ j\\neq i}^N x_{ji} = 1, \\ \\forall i$$"
   ]
  },
  {
   "cell_type": "markdown",
   "metadata": {
    "slideshow": {
     "slide_type": "subslide"
    }
   },
   "source": [
    "  2. The depot has exactly $M$ outgoing and $M$ incoming connections.\n",
    "  $$\\sum_{i=1}^N x_{0i} = M, \\;\\; \\sum_{i=1}^N x_{i0} = M, \\;\\; and,\\\\\n",
    "  \\sum_{i=1}^N y_{ik} = 1; \\;\\; \\forall k \\in \\{1,2,\\dots,N\\}$$\n",
    "  \n",
    "  where $y_{ik}$ is another binary descision variable,\n",
    "\n",
    "  $$y_{ik} = \n",
    "  \\left\\{\\begin{matrix}\n",
    "  1; & if\\ the\\ i^{th}\\ node\\ has\\ been\\ visited\\ by\\ the\\ k^{th}\\ vehicle\\\\\n",
    "  0; & otherwise.\n",
    "  \\end{matrix}\\right.$$"
   ]
  },
  {
   "cell_type": "markdown",
   "metadata": {
    "slideshow": {
     "slide_type": "subslide"
    }
   },
   "source": [
    "![](possible_solution_6-2_1.svg)\n",
    "$$Expected$$\n",
    "![](possible_solution_6-2_2.svg)\n",
    "$$Not\\ expected,\\ but\\ also\\ a\\ possible\\ solution\\ to\\ our\\ constraints$$"
   ]
  },
  {
   "cell_type": "markdown",
   "metadata": {
    "slideshow": {
     "slide_type": "subslide"
    }
   },
   "source": [
    "3. The routes must be connected i.e. there must be **no other subroutes** for each vehicle\n",
    "\n",
    "    Two formulations for this constraint:\n",
    "\n",
    "    i. DFJ formulation (Dantzig, Fulkerson and Johnson):\n",
    "    \n",
    "    $$\\sum_{i \\in S}\\sum_{j \\notin S} x_{ij} \\ge 1;\\;\\;\\;\\; \\forall S ⊂ \\{1,2,\\dots,N\\},\\ |S| \\ge 2\\;\\;\\;\\; \\forall k \\in \\{1,2,\\dots,N\\}\\\\\n",
    "    or\\ alternatively,\\\\\n",
    "    \\sum_{i \\in S}\\sum_{j \\in S} x_{ij} \\le |S| - 1;\\;\\;\\;\\; \\forall S ⊂ \\{1,2,\\dots,N\\},\\ |S| \\ge 2\\;\\;\\;\\; \\forall k \\in \\{1,2,\\dots,N\\}$$\n",
    "    \n",
    "    ii. MTZ formulation (Miller, Tucker and Zemlin, and subsequently extended by Christofides, Mingozzi and Toth)\n",
    "    \n",
    "    $$t_j*y_{jk} - t_i*y_{ik} \\ge 1 - B(1 - x_{ij});\\;\\;\\;\\; \\forall k \\in {1,2,\\dots,N}$$\n",
    "    where $t_i$ is the time taken for any vehicle to reach node $i$, and $B$ is a large number\n",
    "    \n",
    "    *Note: Here this MTZ constraint becomes a quadratic constraint.*"
   ]
  },
  {
   "cell_type": "markdown",
   "metadata": {
    "slideshow": {
     "slide_type": "slide"
    }
   },
   "source": [
    "***Qubit Complexity***\n",
    "\n",
    "  - No. of Logical Variables: $O(N^2)$\n",
    "  - No. of qubits: $O(N^2)$\n"
   ]
  },
  {
   "cell_type": "markdown",
   "metadata": {
    "slideshow": {
     "slide_type": "slide"
    }
   },
   "source": [
    "### Approach 2:\n",
    "**Minimize:**\n",
    "$$C = \\sum_{k=1}^M \\sum_{i=0}^N \\sum_{j=0, \\ j \\neq i}^N C_{ij} x^k_{ij}$$\n",
    "\n",
    "$$x^k_{ij} = \n",
    "\\left\\{\\begin{matrix}\n",
    "1; & if\\ the\\ path\\ from\\ the\\ i^{th}\\ node\\ to\\ the\\ j^{th}\\ node\\ is\\ traversed\\ by\\ the\\ k^{th}\\ vehicle\\\\\n",
    "0; & otherwise.\n",
    "\\end{matrix}\\right.$$"
   ]
  },
  {
   "cell_type": "markdown",
   "metadata": {
    "slideshow": {
     "slide_type": "slide"
    }
   },
   "source": [
    "**Subject to the following constraints**"
   ]
  },
  {
   "cell_type": "markdown",
   "metadata": {
    "slideshow": {
     "slide_type": "subslide"
    }
   },
   "source": [
    "  1. Each node other than the depot has exactly $1$ outgoing active edge and exactly $1$ incoming active edge.\n",
    "\n",
    "  $$\\sum_{k=1}^M \\ \\sum_{j=0,\\ j\\neq i}^N x^k_{ij} = 1,\\;\\;\\; \\sum_{k=1}^M \\ \\sum_{j=0,\\ j\\neq i}^N x^k_{ji} = 1,\\;\\;\\;\\;\\; \\forall i$$"
   ]
  },
  {
   "cell_type": "markdown",
   "metadata": {
    "slideshow": {
     "slide_type": "subslide"
    }
   },
   "source": [
    "2. The depot has exactly $M$ outgoing and $M$ incoming connections.\n",
    "\n",
    "  $$\\sum_{k=1}^M \\sum_{i=1}^N x^k_{0i} = M, \\;\\; \\sum_{k=1}^M \\sum_{i=1}^N x^k_{i0} = M$$"
   ]
  },
  {
   "cell_type": "markdown",
   "metadata": {
    "slideshow": {
     "slide_type": "subslide"
    }
   },
   "source": [
    "3. The routes must be connected i.e. there must be **no other subroutes** for each vehicle\n",
    "\n",
    "    Again two formulations for this constraint:\n",
    "\n",
    "    i. DFJ formulation (Dantzig, Fulkerson and Johnson):\n",
    "    \n",
    "    $$\\sum_{i \\in S}\\sum_{j \\notin S} x^k_{ij} \\ge 1;\\;\\;\\;\\; \\forall S ⊂ \\{1,2,...,n\\},\\ |S| \\ge 2\\;\\;\\;\\; \\forall k \\in \\{1,2,\\dots,N\\}$$\n",
    "    $$or\\ alternatively,$$\n",
    "    $$\\sum_{i \\in S}\\sum_{j \\in S} x^k_{ij} \\le |S| - 1;\\;\\;\\;\\; \\forall S ⊂ \\{1,2,...,n\\},\\ |S| \\ge 2\\;\\;\\;\\; \\forall k \\in \\{1,2,\\dots,N\\}$$\n",
    "    \n",
    "    ii. MTZ formulation (Miller, Tucker and Zemlin, and subsequently extended by Christofides, Mingozzi and Toth)\n",
    "    \n",
    "    $$t^k_j - t^k_i \\ge 1 - B(1 - x^k_{ij});\\;\\;\\;\\; \\forall k \\in {1,2,\\dots,N}$$\n",
    "    where $t^k_i$ is the time taken for the $k^{th}$ vehicle to reach node $i$, and $B$ is a large number\n",
    "\n",
    "    *This constraint however is not quadratic.*"
   ]
  },
  {
   "cell_type": "markdown",
   "metadata": {
    "slideshow": {
     "slide_type": "slide"
    }
   },
   "source": [
    "***Qubit Complexity***\n",
    " - No. of Logical Variables: $O(N^2M)$\n",
    " - No. of qubits: $O(N^2M)$\n"
   ]
  },
  {
   "cell_type": "markdown",
   "metadata": {
    "slideshow": {
     "slide_type": "slide"
    }
   },
   "source": [
    "### Approach 3:\n",
    "\n",
    "  - Our approach is to solve the TSP first, i.e. we assume that initially there is only one vehicle. When we find the best route for this one vehicle, we then partion it into multiple subroutes starting and ending at the depot so every subroute is traversed independently by a different vehicle.\n",
    "  - This partitioning is done classically in such a way that there are M - 1 partitions and the cost of these M - 1 partitions are minimum.\n",
    "\n",
    "**Minimize:**\n",
    "$$C = \\sum_{i=0}^N \\ \\sum_{j=0,\\ j \\neq i}^N C_{ij} x_{ij}$$\n",
    "\n",
    "$$x_{ij} = \n",
    "\\left\\{\\begin{matrix}\n",
    "1; & if\\ there\\ exists\\ a\\ path\\ from\\ the\\ i^{th}\\ node\\ to\\ the\\ j^{th}\\ node\\\\\n",
    "0; & otherwise.\n",
    "\\end{matrix}\\right.$$"
   ]
  },
  {
   "cell_type": "markdown",
   "metadata": {
    "slideshow": {
     "slide_type": "slide"
    }
   },
   "source": [
    "**Subject to the following constraints**"
   ]
  },
  {
   "cell_type": "markdown",
   "metadata": {
    "slideshow": {
     "slide_type": "subslide"
    }
   },
   "source": [
    "  1. Each node other than the depot has exactly $1$ outgoing active edge and exactly $1$ incoming active edge.\n",
    "\n",
    "$$\\sum_{j=0,\\ j\\neq i}^N x_{ij} = 1, \\sum_{j=0,\\ j\\neq i}^N x_{ji} = 1, \\ \\forall i$$"
   ]
  },
  {
   "cell_type": "markdown",
   "metadata": {
    "slideshow": {
     "slide_type": "subslide"
    }
   },
   "source": [
    "  2. The depot has exactly $M$ outgoing and $M$ incoming connections.\n",
    "  $$\\sum_{i=1}^N x_{0i} = M, \\;\\; \\sum_{i=1}^N x_{i0} = M$$"
   ]
  },
  {
   "cell_type": "markdown",
   "metadata": {
    "slideshow": {
     "slide_type": "subslide"
    }
   },
   "source": [
    "3. The routes must be connected i.e. there must be **no other subroutes** for each vehicle\n",
    "\n",
    "    Again two formulations for this constraint:\n",
    "\n",
    "    i. DFJ formulation (Dantzig, Fulkerson and Johnson):\n",
    "    \n",
    "    $$\\sum_{i \\in S}\\sum_{j \\notin S} x_{ij} \\ge 1;\\;\\;\\;\\; \\forall S ⊂ \\{1,2,\\dots,N\\},\\ |S| \\ge 2\\;\\;\\;\\; \\forall k \\in \\{1,2,\\dots,N\\}\\\\\n",
    "    or\\ alternatively,\\\\\n",
    "    \\sum_{i \\in S}\\sum_{j \\in S} x_{ij} \\le |S| - 1;\\;\\;\\;\\; \\forall S ⊂ \\{1,2,\\dots,N\\},\\ |S| \\ge 2\\;\\;\\;\\; \\forall k \\in \\{1,2,\\dots,N\\}$$\n",
    "    \n",
    "    ii. MTZ formulation (Miller, Tucker and Zemlin, and subsequently extended by Christofides, Mingozzi and Toth)\n",
    "    \n",
    "    $$t_j - t_i \\ge 1 - B(1 - x_{ij})$$\n",
    "    where $t_i$ is the time taken for any one vehicle to reach node $i$, and $B$ is a large number"
   ]
  },
  {
   "cell_type": "markdown",
   "metadata": {
    "slideshow": {
     "slide_type": "slide"
    }
   },
   "source": [
    "***Qubit Complexity***\n",
    " - No. of Logical Variables: $O(N^2)$\n",
    " - No. of qubits: $O(N^2)$\n"
   ]
  },
  {
   "cell_type": "markdown",
   "metadata": {
    "slideshow": {
     "slide_type": "slide"
    }
   },
   "source": [
    "### Next steps\n",
    "  - Implement DBSCAN (a better?) solver\n",
    "  - Make a circuit based algorithm from scratch (that does not use any application modules from any libraries) to solve VRP\n",
    "  - Find potential real life applications for VRP (for e.g. Supply Chain, Traffic Flow Optimization)\n"
   ]
  }
 ],
 "metadata": {
  "celltoolbar": "Slideshow",
  "kernelspec": {
   "display_name": "Python 3 (ipykernel)",
   "language": "python",
   "name": "python3"
  },
  "language_info": {
   "codemirror_mode": {
    "name": "ipython",
    "version": 3
   },
   "file_extension": ".py",
   "mimetype": "text/x-python",
   "name": "python",
   "nbconvert_exporter": "python",
   "pygments_lexer": "ipython3",
   "version": "3.9.7"
  }
 },
 "nbformat": 4,
 "nbformat_minor": 2
}
