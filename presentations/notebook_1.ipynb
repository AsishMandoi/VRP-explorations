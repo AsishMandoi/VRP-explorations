{
 "cells": [
  {
   "cell_type": "markdown",
   "metadata": {
    "id": "hD6qB9nq39RR",
    "slideshow": {
     "slide_type": "slide"
    }
   },
   "source": [
    "# **Solving the Vehicle Routing Problem**\n",
    "*The Qubit Players*\n",
    "- QOSF Quantum Computing Mentorship Program 2021 Cohort-4\n",
    "- Mentor: Dr. Vesselin G. Gueorguiev\n",
    "- Mentees: Arya Bhatta, Asish Kumar Mandoi"
   ]
  },
  {
   "cell_type": "markdown",
   "metadata": {
    "id": "Vk5qVtUd9AmC",
    "slideshow": {
     "slide_type": "slide"
    }
   },
   "source": [
    "## The Vehicle Routing Problem (VRP)\n",
    "- A combinatorial optimization and integer programming problem\n",
    "- More precisely: ***What is the optimal set of routes for a fleet of vehicles to traverse in order to deliver to a given set of customers?***\n",
    "- Generalises **The Travelling Salesman Problem (TSP)**.\n",
    "- An NP-hard problem."
   ]
  },
  {
   "cell_type": "markdown",
   "metadata": {
    "id": "yBa841dYG6Yu",
    "slideshow": {
     "slide_type": "slide"
    }
   },
   "source": [
    "## Goal\n",
    "- Main goal: To solve the Vehicle Routing Problem (ofcourse!) and the **Capacitated Vehicle Routing Problem**\n",
    "- Use the Vehicle Flow Formulations approach\n",
    "    - uses integer variables associated with each arc that count the number of times that the edge is traversed by a vehicle)\n",
    "    - solution cost can be expressed as the sum of any costs associated with the arcs\n",
    "- Can solve on Adiabatic Quantum Computers (like **DWave**'s) / Gate Model Quantum Computers (like **IBM**'s)\n",
    "- Find Application Classes for optimization problems offered by DWave Leap as well as by IBM\n",
    "- Solve other variants if possible"
   ]
  },
  {
   "cell_type": "markdown",
   "metadata": {
    "id": "lou6yB2h9NJB",
    "slideshow": {
     "slide_type": "slide"
    }
   },
   "source": [
    "## Possible Objective Functions\n",
    "*Can be very different depending on the particular application of the result*\n",
    "\n",
    "- Minimize the **total distance travelled**\n",
    "- Minimize the **fixed costs** associated with the used vehicles and drivers\n",
    "- Minimize the **number of vehicles** needed to serve all customers\n",
    "- Least variation in **travel time** and **vehicle load**\n",
    "- Minimize **penalties** for low quality service\n",
    "- Maximize a collected **profit/score**."
   ]
  },
  {
   "cell_type": "markdown",
   "metadata": {
    "id": "26QguBt5_PsD",
    "slideshow": {
     "slide_type": "slide"
    }
   },
   "source": [
    "## Modeling the optimization problem\n",
    "- Notations\n",
    "- Formulate the problem in terms of the Objective Functions\n",
    "- Convert the formulation into a **Quadratic Unconstrained Binary Optimization (QUBO)** problem\n",
    "- A quantum computer can understand **Ising Hamiltonians**, so convert the QUBO into an Ising Hamilonian\n",
    "- Find the solution to the QUBO (Find the ground state of a corresponding Ising Hamiltonian)"
   ]
  },
  {
   "cell_type": "markdown",
   "metadata": {
    "id": "8PXPfU7GJNZM",
    "slideshow": {
     "slide_type": "slide"
    }
   },
   "source": [
    "## Classical Approach\n",
    "- IBM ILOG CPLEX"
   ]
  },
  {
   "cell_type": "markdown",
   "metadata": {
    "id": "r0mfPmP5KiqY",
    "slideshow": {
     "slide_type": "subslide"
    }
   },
   "source": [
    "## Quantum & Hybrid Approach\n",
    "- Full QUBO solver\n",
    "- Average Partition Solver (APS)\n",
    "- DBSCAN Solver (DBSS)\n",
    "- Solution Partitioning Solver (SPS)"
   ]
  },
  {
   "cell_type": "markdown",
   "metadata": {
    "id": "yHS8GaLKFfZX",
    "slideshow": {
     "slide_type": "slide"
    }
   },
   "source": [
    "## Other things to explore\n",
    "- Give context to the problem / Apply the problem in various real life contexts such as **`Supply Chains`**\n",
    "- Try other approaches of solving the VRP\n",
    "- Try other variants of VRP like:\n",
    "  - Vehicle Routing Problem with Time Windows (VRPTW)\n",
    "  - Multi-Depot Vehicle Routing Problem (MDVRP)\n"
   ]
  },
  {
   "cell_type": "markdown",
   "metadata": {
    "id": "aO1UTW758FEM",
    "slideshow": {
     "slide_type": "slide"
    }
   },
   "source": [
    "## Next Tasks\n",
    "- Add a classical method as a reference for other methods\n",
    "- Add SimulatedAnnealingSampler() solver method for backends,\n",
    "- Improve the RAS if possible by adding constraints that maybe missing\n"
   ]
  },
  {
   "cell_type": "markdown",
   "metadata": {
    "slideshow": {
     "slide_type": "notes"
    }
   },
   "source": [
    "Each solver may have different:\n",
    "  - representation of the variables\n",
    "  - objective function\n",
    "  - constraints\n",
    "  - time complexity\n",
    "  - circuit depth\n",
    "  etc\n",
    "\n",
    "\n",
    "`Quasm Simulator` --> sampling noise + simulate noise of gates and qubits\n",
    "\n",
    "Use DWave pod (ide that can run any github repo)"
   ]
  }
 ],
 "metadata": {
  "celltoolbar": "Slideshow",
  "colab": {
   "collapsed_sections": [],
   "name": "the-qubit-players-presentation_1.ipynb",
   "provenance": []
  },
  "interpreter": {
   "hash": "f13ab78eddade66e7cc95f84b5cffaea5a7c94861e75b0b44bf072ea1e6f8b4a"
  },
  "kernelspec": {
   "display_name": "Python 3 (ipykernel)",
   "language": "python",
   "name": "python3"
  },
  "language_info": {
   "codemirror_mode": {
    "name": "ipython",
    "version": 3
   },
   "file_extension": ".py",
   "mimetype": "text/x-python",
   "name": "python",
   "nbconvert_exporter": "python",
   "pygments_lexer": "ipython3",
   "version": "3.9.7"
  }
 },
 "nbformat": 4,
 "nbformat_minor": 1
}
