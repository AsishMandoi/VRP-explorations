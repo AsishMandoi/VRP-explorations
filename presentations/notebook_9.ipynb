{
 "cells": [
  {
   "cell_type": "markdown",
   "metadata": {},
   "source": [
    "## Using the Constrained Quadratic Model Hybrid Solver\n",
    "Example: Vehicle Routing<br>\n",
    "https://www.youtube.com/watch?v=qaGUNL28TZg&t=1520s (25:20 - 29:40)"
   ]
  },
  {
   "cell_type": "markdown",
   "metadata": {},
   "source": [
    "<center><img src=\"./images/D-Wave_Qubits21_1.png\" width=\"5120\" /></center>"
   ]
  },
  {
   "cell_type": "markdown",
   "metadata": {},
   "source": [
    "<center><img src=\"./images/D-Wave_Qubits21_2.png\" width=\"5120\" /></center>"
   ]
  },
  {
   "cell_type": "markdown",
   "metadata": {},
   "source": [
    "<center><img src=\"./images/D-Wave_Qubits21_3.png\" width=\"5120\" /></center>"
   ]
  },
  {
   "cell_type": "markdown",
   "metadata": {},
   "source": [
    "<center><img src=\"./images/D-Wave_Qubits21_4.png\" width=\"5120\" /></center>"
   ]
  },
  {
   "cell_type": "markdown",
   "metadata": {},
   "source": [
    "<center><img src=\"./images/vrp_gps_sol.png\" width=\"640\" /></center>\n",
    "<center></center>"
   ]
  },
  {
   "cell_type": "markdown",
   "metadata": {},
   "source": [
    "> For converting a CQM to a BQM the CQM must not have any quadratic constraints.\n",
    "\n",
    "> Only the LeapHybridCQMSampler() is designed to work with CQMs\n",
    "\n",
    "> ExactCQMSolver() can do a max of 32 dims (which is very less for our purpose)"
   ]
  },
  {
   "cell_type": "markdown",
   "metadata": {},
   "source": [
    "### Interesting Observation\n",
    "While running the solvers using the `LeapHybridCQMSampler`, I noticed that when I increase the `time_limit` parameter beyond what they call `LeapHybridCQMSampler.min_time_limit` (a method that calculates the minimum time for our particular problem) the solver gives better solutions."
   ]
  }
 ],
 "metadata": {
  "interpreter": {
   "hash": "0e7816a9375d24982caaf7808db0b7b92b4219a28bbe82f81d56470da3fa9de7"
  },
  "kernelspec": {
   "display_name": "Python 3 (ipykernel)",
   "language": "python",
   "name": "python3"
  },
  "language_info": {
   "codemirror_mode": {
    "name": "ipython",
    "version": 3
   },
   "file_extension": ".py",
   "mimetype": "text/x-python",
   "name": "python",
   "nbconvert_exporter": "python",
   "pygments_lexer": "ipython3",
   "version": "3.9.7"
  }
 },
 "nbformat": 4,
 "nbformat_minor": 2
}
