{
 "cells": [
  {
   "cell_type": "markdown",
   "metadata": {
    "id": "hD6qB9nq39RR",
    "slideshow": {
     "slide_type": "slide"
    }
   },
   "source": [
    "# **Solving the Vehicle Routing Problem**\n",
    "*The Qubit Players*\n",
    "- QOSF Quantum Computing Mentorship Program 2021 Cohort - 4\n",
    "- Mentor: Dr. Vesselin G. Gueorguiev\n",
    "- Mentees: Arya Bhatta, Asish Kumar Mandoi"
   ]
  },
  {
   "cell_type": "markdown",
   "metadata": {
    "slideshow": {
     "slide_type": "slide"
    }
   },
   "source": [
    "## The Vehicle Routing Problem (VRP)\n",
    "- A combinatorial optimization and integer programming problem\n",
    "- Problem statement: ***What is the optimal set of routes for a fleet of vehicles to traverse in order to deliver to a given set of customers?***\n",
    "- Generalises **The Travelling Salesman Problem (TSP)**.\n",
    "- An NP-hard problem."
   ]
  },
  {
   "cell_type": "markdown",
   "metadata": {
    "slideshow": {
     "slide_type": "slide"
    }
   },
   "source": [
    "## How are we solving it?\n",
    "- Model the optimization problem using the QuadraticProgram class in `Qiskit`'s Optimization module\n",
    "- Convert this QuadraticProgram into a QUBO problem\n",
    "- Feed this QUBO problem to one of the Quantum Annealers provided by D-Wave\n",
    "- Multiple methods to solve the VRP\n",
    "- We specifically focussed on one particular method: **RAS**"
   ]
  },
  {
   "cell_type": "markdown",
   "metadata": {
    "slideshow": {
     "slide_type": "slide"
    }
   },
   "source": [
    "## Route Activation Solver (RAS)\n",
    "\n",
    "Explored multiple ways to make this solver work perfectly"
   ]
  },
  {
   "cell_type": "markdown",
   "metadata": {
    "slideshow": {
     "slide_type": "slide"
    }
   },
   "source": [
    "### Approach 1:\n",
    "\n",
    "**Minimize:**\n",
    "$$C = \\sum_{i=0}^N \\sum_{j=0,\\ j \\neq i}^N C_{ij} x_{ij}$$\n",
    "\n",
    "where $x_{ij}$ is a binary descision varible and $C_{ij}$ is the cost (or weight) associated with the edge connecting node $i$ and node $j$\n",
    "\n",
    "$$x_{ij} = \n",
    "\\left\\{\\begin{matrix}\n",
    "1; & if\\ there\\ exists\\ a\\ path\\ from\\ the\\ i^{th}\\ node\\ to\\ the\\ j^{th}\\ node\\\\\n",
    "0; & otherwise.\n",
    "\\end{matrix}\\right.$$"
   ]
  },
  {
   "cell_type": "markdown",
   "metadata": {
    "slideshow": {
     "slide_type": "slide"
    }
   },
   "source": [
    "**Subject to the following constraints**"
   ]
  },
  {
   "cell_type": "markdown",
   "metadata": {
    "slideshow": {
     "slide_type": "fragment"
    }
   },
   "source": [
    "1. a) Each node other than the depot has exactly $1$ outgoing active edge and exactly $1$ incoming active edge.\n",
    "\n",
    "    $$\\sum_{j=0,\\ j\\neq i}^N x_{ij} = 1, \\sum_{j=0,\\ j\\neq i}^N x_{ji} = 1, \\ \\forall i$$"
   ]
  },
  {
   "cell_type": "markdown",
   "metadata": {
    "slideshow": {
     "slide_type": "fragment"
    }
   },
   "source": [
    "1. b) Each client node is visited by exactly one vehicle\n",
    "\n",
    "    $$\\sum_{k=1}^M y_{ik} = 1; \\;\\; \\forall i \\in \\{1,2,\\dots,N\\}$$\n",
    "    c) Each vehicle must have visited the depot\n",
    "    $$y_{0k} = 1; \\;\\; \\forall k \\in \\{1,2,\\dots,M\\}$$\n",
    "    where $y_{ik}$ is another binary descision variable,\n",
    "\n",
    "    $$y_{ik} = \n",
    "    \\left\\{\\begin{matrix}\n",
    "    1; & if\\ the\\ i^{th}\\ node\\ has\\ been\\ visited\\ by\\ the\\ k^{th}\\ vehicle\\\\\n",
    "    0; & otherwise.\n",
    "    \\end{matrix}\\right.$$"
   ]
  },
  {
   "cell_type": "markdown",
   "metadata": {
    "slideshow": {
     "slide_type": "fragment"
    }
   },
   "source": [
    "2. The depot has exactly $M$ outgoing and $M$ incoming connections.\n",
    "    \n",
    "    $$\\sum_{i=1}^N x_{0i} = M, \\;\\; \\sum_{i=1}^N x_{i0} = M$$"
   ]
  },
  {
   "cell_type": "markdown",
   "metadata": {
    "slideshow": {
     "slide_type": "subslide"
    }
   },
   "source": [
    "<center><img src=\"./images/possible_solution_6-2_1.svg\" width=\"640\"></center>\n",
    "<center>Expected</center>"
   ]
  },
  {
   "cell_type": "markdown",
   "metadata": {
    "slideshow": {
     "slide_type": "subslide"
    }
   },
   "source": [
    "<center><img src=\"./images/possible_solution_6-2_2.svg\" width=\"640\" /></center>\n",
    "<center>Not expected, but our constraints allow this solution as well</center>"
   ]
  },
  {
   "cell_type": "markdown",
   "metadata": {
    "slideshow": {
     "slide_type": "subslide"
    }
   },
   "source": [
    "3. The routes must be connected i.e. there must be **no other subroutes** for each vehicle\n",
    "\n",
    "    Two formulations for this constraint:\n",
    "\n",
    "    a) DFJ formulation (Dantzig, Fulkerson and Johnson):\n",
    "      \n",
    "    $$\\sum_{i \\in S}\\sum_{j \\notin S} x_{ij} \\ge 1;\\;\\;\\;\\; \\forall S ⊂ \\{1,2,\\dots,N\\},\\ |S| \\ge 2\\;\\;\\;\\; \\forall k \\in \\{1,2,\\dots,M\\}\\\\\n",
    "    or\\ alternatively,\\\\\n",
    "    \\sum_{i \\in S}\\sum_{j \\in S} x_{ij} \\le |S| - 1;\\;\\;\\;\\; \\forall S ⊂ \\{1,2,\\dots,N\\},\\ |S| \\ge 2\\;\\;\\;\\; \\forall k \\in \\{1,2,\\dots,M\\}$$\n",
    "      \n",
    "    b) MTZ formulation (Miller, Tucker and Zemlin, and subsequently extended by Christofides, Mingozzi and Toth)\n",
    "      \n",
    "    $$t_j \\cdot y_{jk} \\ge (t_i + 1) \\cdot y_{ik} - B(1 - x_{ij});\\;\\;\\;\\; \\forall k \\in {1,2,\\dots,M}$$\n",
    "    where $t_i$ is the time taken for any vehicle to reach node $i$, and $B$ is a large number\n",
    "      \n",
    "    *Note: Here this MTZ constraint is no longer linear (becomes a quadratic constraint).*"
   ]
  },
  {
   "cell_type": "markdown",
   "metadata": {
    "slideshow": {
     "slide_type": "slide"
    }
   },
   "source": [
    "***Qubit Complexity***\n",
    "\n",
    "  - No. of binary variables:\n",
    "      - $O(N^2)$ (with quadratic constraints)\n",
    "      - $O(N^2M)$ (with linear constraints)\n",
    "  - No. of qubits:\n",
    "      - $O(N^2)$ (with quadratic constraints)\n",
    "      - $O(N^2M)$ (with linear constraints)\n"
   ]
  },
  {
   "cell_type": "markdown",
   "metadata": {
    "slideshow": {
     "slide_type": "slide"
    }
   },
   "source": [
    "### Approach 2:\n",
    "**Minimize:**\n",
    "$$C = \\sum_{k=1}^M \\sum_{i=0}^N \\sum_{j=0, \\ j \\neq i}^N C_{ij} x^k_{ij}$$\n",
    "\n",
    "$$x^k_{ij} = \n",
    "\\left\\{\\begin{matrix}\n",
    "1; & if\\ the\\ path\\ from\\ the\\ i^{th}\\ node\\ to\\ the\\ j^{th}\\ node\\ is\\ traversed\\ by\\ the\\ k^{th}\\ vehicle\\\\\n",
    "0; & otherwise.\n",
    "\\end{matrix}\\right.$$"
   ]
  },
  {
   "cell_type": "markdown",
   "metadata": {
    "slideshow": {
     "slide_type": "slide"
    }
   },
   "source": [
    "**Subject to the following constraints**"
   ]
  },
  {
   "cell_type": "markdown",
   "metadata": {
    "slideshow": {
     "slide_type": "fragment"
    }
   },
   "source": [
    "1. Each node other than the depot has exactly $1$ outgoing active edge and exactly $1$ incoming active edge.\n",
    "\n",
    "    $$\\sum_{k=1}^M \\ \\sum_{j=0,\\ j\\neq i}^N x^k_{ij} = 1,\\;\\;\\; \\sum_{k=1}^M \\ \\sum_{j=0,\\ j\\neq i}^N x^k_{ji} = 1,\\;\\;\\;\\;\\; \\forall i$$"
   ]
  },
  {
   "cell_type": "markdown",
   "metadata": {
    "slideshow": {
     "slide_type": "fragment"
    }
   },
   "source": [
    "2. The depot has exactly $M$ outgoing and $M$ incoming connections.\n",
    "\n",
    "    $$\\sum_{k=1}^M \\sum_{i=1}^N x^k_{0i} = M, \\;\\; \\sum_{k=1}^M \\sum_{i=1}^N x^k_{i0} = M$$"
   ]
  },
  {
   "cell_type": "markdown",
   "metadata": {
    "slideshow": {
     "slide_type": "subslide"
    }
   },
   "source": [
    "3. The routes must be connected i.e. there must be **no other subroutes** for each vehicle\n",
    "\n",
    "    Again two formulations for this constraint:\n",
    "\n",
    "    i. DFJ formulation (Dantzig, Fulkerson and Johnson):\n",
    "\n",
    "    $$\\sum_{i \\in S}\\sum_{j \\notin S} x^k_{ij} \\ge 1;\\;\\;\\;\\; \\forall S ⊂ \\{1,2,...,n\\},\\ |S| \\ge 2\\;\\;\\;\\; \\forall k \\in \\{1,2,\\dots,N\\}$$\n",
    "    $$or\\ alternatively,$$\n",
    "    $$\\sum_{i \\in S}\\sum_{j \\in S} x^k_{ij} \\le |S| - 1;\\;\\;\\;\\; \\forall S ⊂ \\{1,2,...,n\\},\\ |S| \\ge 2\\;\\;\\;\\; \\forall k \\in \\{1,2,\\dots,N\\}$$\n",
    "\n",
    "    ii. MTZ formulation (Miller, Tucker and Zemlin, and subsequently extended by Christofides, Mingozzi and Toth)\n",
    "\n",
    "    $$t^k_j \\ge t^k_i + 1 - B(1 - x^k_{ij});\\;\\;\\;\\; \\forall k \\in {1,2,\\dots,N}$$\n",
    "    where $t^k_i$ is the time taken for the $k^{th}$ vehicle to reach node $i$, and $B$ is a large number\n",
    "\n",
    "    *This constraint however is not quadratic.*"
   ]
  },
  {
   "cell_type": "markdown",
   "metadata": {
    "slideshow": {
     "slide_type": "slide"
    }
   },
   "source": [
    "***Qubit Complexity***\n",
    " - No. of binary variables: $O(N^2M)$\n",
    " - No. of qubits: $O(N^2M)$\n"
   ]
  },
  {
   "cell_type": "markdown",
   "metadata": {
    "slideshow": {
     "slide_type": "slide"
    }
   },
   "source": [
    "### Approach 3:\n",
    "\n",
    "  - Our approach here is to solve the TSP first, i.e. we assume that initially there is only one vehicle. When we find the best route for this one vehicle, we then partion it into multiple subroutes starting and ending at the depot so every subroute is traversed independently by a different vehicle.\n",
    "  - This partitioning is done classically in such a way that there are M - 1 partitions and the cost of these M - 1 partitions are minimum.\n",
    "\n",
    "**Minimize:**\n",
    "$$C = \\sum_{i=0}^N \\ \\sum_{j=0,\\ j \\neq i}^N C_{ij} x_{ij}$$\n",
    "\n",
    "$$x_{ij} = \n",
    "\\left\\{\\begin{matrix}\n",
    "1; & if\\ there\\ exists\\ a\\ path\\ from\\ the\\ i^{th}\\ node\\ to\\ the\\ j^{th}\\ node\\\\\n",
    "0; & otherwise.\n",
    "\\end{matrix}\\right.$$"
   ]
  },
  {
   "cell_type": "markdown",
   "metadata": {
    "slideshow": {
     "slide_type": "slide"
    }
   },
   "source": [
    "**Subject to the following constraints**"
   ]
  },
  {
   "cell_type": "markdown",
   "metadata": {
    "slideshow": {
     "slide_type": "fragment"
    }
   },
   "source": [
    "1. Each node other than the depot has exactly $1$ outgoing active edge and exactly $1$ incoming active edge.\n",
    "\n",
    "    $$\\sum_{j=0,\\ j\\neq i}^N x_{ij} = 1, \\sum_{j=0,\\ j\\neq i}^N x_{ji} = 1, \\;\\;\\;\\; \\forall i \\in \\{1,2,...,N\\}$$"
   ]
  },
  {
   "cell_type": "markdown",
   "metadata": {
    "slideshow": {
     "slide_type": "fragment"
    }
   },
   "source": [
    "1. The depot has exactly $M$ outgoing and $M$ incoming connections.\n",
    "  \n",
    "    $$\\sum_{i=1}^N x_{0i} = M, \\;\\; \\sum_{i=1}^N x_{i0} = M$$"
   ]
  },
  {
   "cell_type": "markdown",
   "metadata": {
    "slideshow": {
     "slide_type": "subslide"
    }
   },
   "source": [
    "3. The routes must be connected i.e. there must be **no other subroutes** for each vehicle\n",
    "\n",
    "    Again two formulations for this constraint:\n",
    "\n",
    "    i. DFJ formulation (Dantzig, Fulkerson and Johnson):\n",
    "      \n",
    "    $$\\sum_{i \\in S}\\sum_{j \\notin S} x_{ij} \\ge 1;\\;\\;\\;\\; \\forall S ⊂ \\{1,2,\\dots,N\\},\\ |S| \\ge 2\\;\\;\\;\\; \\forall k \\in \\{1,2,\\dots,N\\}\\\\\n",
    "    or\\ alternatively,\\\\\n",
    "    \\sum_{i \\in S}\\sum_{j \\in S} x_{ij} \\le |S| - 1;\\;\\;\\;\\; \\forall S ⊂ \\{1,2,\\dots,N\\},\\ |S| \\ge 2\\;\\;\\;\\; \\forall k \\in \\{1,2,\\dots,N\\}$$\n",
    "      \n",
    "    ii. MTZ formulation (Miller, Tucker and Zemlin, and subsequently extended by Christofides, Mingozzi and Toth)\n",
    "      \n",
    "    $$t_j \\ge t_i + 1 - B(1 - x_{ij})$$\n",
    "    where $t_i$ is the time taken for any one vehicle to reach node $i$, and $B$ is a large number"
   ]
  },
  {
   "cell_type": "markdown",
   "metadata": {
    "slideshow": {
     "slide_type": "slide"
    }
   },
   "source": [
    "***Qubit Complexity***\n",
    " - No. of binary variables: $O(N^2)$\n",
    " - No. of qubits: $O(N^2)$\n"
   ]
  },
  {
   "cell_type": "markdown",
   "metadata": {
    "slideshow": {
     "slide_type": "slide"
    }
   },
   "source": [
    "## Conclusion\n",
    "- We need to be careful about how we formulate the problem, specifically **the number of variables we use**\n",
    "- The variables are mapped to qubits [[2](https://arxiv.org/pdf/1811.07403.pdf)]; number of variables ~ number of qubits\n",
    "- The **Solution Partition Solver** (SPS) uses the least number of qubits compared to other methods\n",
    "- For example: for 5 clients and 2 vehicles, SPS uses only around 25, our best approach of RAS uses around 50"
   ]
  },
  {
   "cell_type": "markdown",
   "metadata": {
    "slideshow": {
     "slide_type": "slide"
    }
   },
   "source": [
    "## Next steps\n",
    "  - Use techniques to achieve better accuracy for larger QUBO problems\n",
    "  - Implement DBSCAN (a better?) solver\n",
    "  - Incorporate solutions for other variants of the problem\n",
    "  - Make a circuit based algorithm from scratch (that does not use any application modules from any libraries) to solve VRP\n",
    "  - Find potential real life applications for VRP (for e.g. Supply Chain, Traffic Flow Optimization)\n"
   ]
  },
  {
   "cell_type": "markdown",
   "metadata": {
    "slideshow": {
     "slide_type": "slide"
    }
   },
   "source": [
    "## References\n",
    "[[1](https://github.com/VGGatGitHub/QOSF-cohort3)] The QOSF cohort - 3 project by Shantom, Aniket and Avneesh based on this topic<br>\n",
    "[[2](https://arxiv.org/pdf/1811.07403.pdf)] Sebastian Feld, et al. \"A Hybrid Solution Method for the Capacitated Vehicle Routing Problem Using a Quantum Annealer\"<br>\n",
    "[[3](https://faculty.math.illinois.edu/~mlavrov/slides/482-spring-2020/slides35.pdf)] Misha Lavrov \"Travelling Salesman Problem\"<br>\n",
    "[[4](https://en.wikipedia.org/wiki/Vehicle_routing_problem)] Vehicle routing problem - Wikipedia"
   ]
  }
 ],
 "metadata": {
  "celltoolbar": "Slideshow",
  "kernelspec": {
   "display_name": "Python 3 (ipykernel)",
   "language": "python",
   "name": "python3"
  },
  "language_info": {
   "codemirror_mode": {
    "name": "ipython",
    "version": 3
   },
   "file_extension": ".py",
   "mimetype": "text/x-python",
   "name": "python",
   "nbconvert_exporter": "python",
   "pygments_lexer": "ipython3",
   "version": "3.9.7"
  }
 },
 "nbformat": 4,
 "nbformat_minor": 2
}
