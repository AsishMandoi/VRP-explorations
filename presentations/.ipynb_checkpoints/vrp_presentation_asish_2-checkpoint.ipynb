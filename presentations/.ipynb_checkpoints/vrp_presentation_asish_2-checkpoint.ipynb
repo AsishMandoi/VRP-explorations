{
 "cells": [
  {
   "cell_type": "markdown",
   "metadata": {
    "id": "hD6qB9nq39RR",
    "slideshow": {
     "slide_type": "slide"
    }
   },
   "source": [
    "# **Solving the Vehicle Routing Problem**\n",
    "*The Qubit Players*\n",
    "- QOSF Quantum Computing Mentorship Program 2021 Cohort - 4\n",
    "- Mentor: Dr. Vesselin G. Gueorguiev\n",
    "- Mentees:\n",
    "    - **Asish Kumar Mandoi**, *Junior Undergraduate at Indian Institute of Technology Kanpur, Department of Electrical Engineering*\n",
    "        - [LinkedIn](https://www.linkedin.com/in/asish-mandoi-4178581b4/)\n",
    "        - [GitHub](https://github.com/AsishMandoi)\n",
    "        - [Resume](https://drive.google.com/file/d/1J34OVkYKVrQjxndY_oPV-kW02WMCqfgg/view?usp=sharing)\n",
    "    - **Arya Bhatta**, *Junior Undergraduate at Indian Institute of Technology Kanpur, Department of Electrical Engineering*\n",
    "        - [Resume](https://drive.google.com/file/d/1MSddzwGTJxjNEGhw2eMKC9z8VLGYU6vR/view?usp=sharing)"
   ]
  },
  {
   "cell_type": "markdown",
   "metadata": {
    "slideshow": {
     "slide_type": "slide"
    }
   },
   "source": [
    "## The Vehicle Routing Problem (VRP)\n",
    "- A combinatorial optimization and integer programming problem\n",
    "- Problem statement: ***What is the optimal set of routes for a fleet of vehicles to traverse in order to deliver to a given set of customers?***\n",
    "- Generalises **The Travelling Salesman Problem (TSP)**.\n",
    "- An NP-hard problem."
   ]
  },
  {
   "cell_type": "markdown",
   "metadata": {
    "slideshow": {
     "slide_type": "slide"
    }
   },
   "source": [
    "## How are we solving it?\n",
    "It varies depending on the solver we use, but the overall structure is:\n",
    "- Model the optimization problem using the `QuadraticProgram` class from `Qiskit`'s Optimization module\n",
    "- Convert this `QuadraticProgram` into a QUBO problem\n",
    "- Feed this QUBO problem to one of the Quantum Annealers provided by D-Wave\n",
    "- Get the results and visualize the solution\n",
    "\n",
    "Multiple solvers to solve the VRP\n",
    "We have implemented 2 such solvers in detail: **RAS** and **DBSS**"
   ]
  },
  {
   "cell_type": "markdown",
   "metadata": {
    "slideshow": {
     "slide_type": "slide"
    }
   },
   "source": [
    "## Route Activation Solver (RAS)\n",
    "\n",
    "Implemented 3 approaches to make this solver work perfectly"
   ]
  },
  {
   "cell_type": "markdown",
   "metadata": {
    "slideshow": {
     "slide_type": "slide"
    }
   },
   "source": [
    "### Approach:\n",
    "\n",
    "  - Step 1: Solve the TSP first, i.e. assume that initially there is only one vehicle. When we find the best route for this one vehicle that visits all the nodes.\n",
    "  - Step 2: We then partion this route into multiple subroutes starting and ending at the depot so every subroute is traversed independently by a different vehicle.\n",
    "  This partitioning is done classically in such a way that there are M - 1 partitions and the cost of these M - 1 partitions are minimum."
   ]
  },
  {
   "cell_type": "markdown",
   "metadata": {
    "slideshow": {
     "slide_type": "slide"
    }
   },
   "source": [
    "#### **Step-1**:\n",
    "\n",
    "**Minimize:**\n",
    "$$C = \\sum_{i=0}^N \\ \\sum_{j=0,\\ j \\neq i}^N C_{ij} x_{ij}$$\n",
    "\n",
    "$$x_{ij} = \n",
    "\\left\\{\\begin{matrix}\n",
    "1; & if\\ there\\ exists\\ a\\ path\\ from\\ the\\ i^{th}\\ node\\ to\\ the\\ j^{th}\\ node\\\\\n",
    "0; & otherwise.\n",
    "\\end{matrix}\\right.$$\n",
    "\n",
    "**Subject to the following constraints**\n",
    "1. Each node other than the depot has exactly $1$ outgoing active edge and exactly $1$ incoming active edge.\n",
    "\n",
    "    $$\\sum_{j=0,\\ j\\neq i}^N x_{ij} = 1, \\sum_{j=0,\\ j\\neq i}^N x_{ji} = 1, \\ \\forall i$$\n",
    "\n",
    "2. The depot has exactly $M$ outgoing and $M$ incoming connections.\n",
    "  \n",
    "    $$\\sum_{i=1}^N x_{0i} = M, \\;\\; \\sum_{i=1}^N x_{i0} = M$$"
   ]
  },
  {
   "cell_type": "markdown",
   "metadata": {
    "slideshow": {
     "slide_type": "slide"
    }
   },
   "source": [
    "3.  **Subtour Elimination Constraints**:<br>\n",
    "    The routes must be connected i.e. there must be **no other subtour** for each vehicle.\n",
    "\n",
    "    MTZ formulation (Miller, Tucker and Zemlin, and subsequently extended by Christofides, Mingozzi and Toth):\n",
    "      \n",
    "    $$t_j \\ge t_i + 1 - B(1 - x_{ij})$$\n",
    "    where $t_i$ is the time taken for any one vehicle to reach node $i$, and $B$ is a large number"
   ]
  },
  {
   "cell_type": "markdown",
   "metadata": {
    "slideshow": {
     "slide_type": "slide"
    }
   },
   "source": [
    "#### **Step-2**:\n",
    "We have obtained the optimal route(s) for one vehicle.\n",
    "<center><img src=\"./images/possible_solution_3.svg\" width=\"640\"></center>"
   ]
  },
  {
   "cell_type": "markdown",
   "metadata": {
    "slideshow": {
     "slide_type": "slide"
    }
   },
   "source": [
    "\n",
    "We will then make M-1 partitions in this graph such that the cost of partitioning is minimum and after partitioning every subroute is connected to the depot.\n",
    "<center><img src=\"./images/possible_solution_0.svg\" width=\"640\"></center>"
   ]
  },
  {
   "cell_type": "markdown",
   "metadata": {
    "slideshow": {
     "slide_type": "slide"
    }
   },
   "source": [
    "\n",
    "***Qubit Complexity***\n",
    " - No. of binary variables: $O(N^2)$\n",
    " - No. of qubits: $O(N^2)$\n",
    "\n",
    "$N$: Total no. of customers"
   ]
  },
  {
   "cell_type": "markdown",
   "metadata": {
    "slideshow": {
     "slide_type": "slide"
    }
   },
   "source": [
    "## Density-Based Spatial Clustering Of Applications with Noise (DBSCAN) Solver\n",
    "\n",
    "*DBSCAN is one of the most common clustering algorithms and also most cited in scientific literature.*\n",
    "\n",
    "<center><img src=\"./images/dbscan_illus.svg\" width=\"640\"></center>\n",
    "<center>Obtained from the DBSCAN Solver implementation</center>"
   ]
  },
  {
   "cell_type": "markdown",
   "metadata": {
    "slideshow": {
     "slide_type": "slide"
    }
   },
   "source": [
    "### Approach:\n",
    "\n",
    "2 steps\n",
    "1. Clustering\n",
    "2. Solving TSP for individual clusters"
   ]
  },
  {
   "cell_type": "markdown",
   "metadata": {
    "slideshow": {
     "slide_type": "slide"
    }
   },
   "source": [
    "#### 1. Clustering\n",
    "- Various ways to cluster the set of nodes for e.g. **k-means clustering**\n",
    "- We will look at a method called DBSCAN"
   ]
  },
  {
   "cell_type": "markdown",
   "metadata": {
    "slideshow": {
     "slide_type": "slide"
    }
   },
   "source": [
    "**DBSCAN or Density-Based Spatial Clustering Of Applications with Noise** [[5](https://en.wikipedia.org/wiki/DBSCAN)]\n",
    "\n",
    "Consider a set of points in some space to be clustered. Let $\\epsilon$ be a parameter specifying the radius of a neighborhood with respect to some point. For the purpose of DBSCAN clustering, the points are classified as core points, density-reachable points and outliers, as follows:\n",
    "\n",
    "- A point $p$ is a core point if at least minPts ($\\gamma$) points are within distance $\\epsilon$ of it (including $p$).\n",
    "- A point $q$ is directly reachable from $p$ if point $q$ is within distance $\\epsilon$ from core point $p$. Points are only said to be directly reachable from core points.\n",
    "- A point $q$ is reachable from $p$ if there is a path $p_1, ..., p_n$ with $p_1 = p$ and $p_n = q$, where each $p_{i+1}$ is directly reachable from $p_i$. Note that this implies that the initial point and all points on the path must be core points, with the possible exception of $q$.\n",
    "- All points not reachable from any other point are outliers or noise points."
   ]
  },
  {
   "cell_type": "markdown",
   "metadata": {
    "slideshow": {
     "slide_type": "slide"
    }
   },
   "source": [
    "<center><img src=\"./images/DBSCAN_illustration.png\" width=\"640\"></center>"
   ]
  },
  {
   "cell_type": "markdown",
   "metadata": {
    "slideshow": {
     "slide_type": "slide"
    }
   },
   "source": [
    "#### 2. Solving TSP for individual clusters\n",
    "Simply use a solver like the Route Activation Solver (RAS) or Full QUBO Solver (FQS) to solve the TSP."
   ]
  },
  {
   "cell_type": "markdown",
   "metadata": {
    "slideshow": {
     "slide_type": "slide"
    }
   },
   "source": [
    "***Qubit Complexity***\n",
    " - No. of binary variables: $O(S^2_{L})$\n",
    " - No. of qubits: $O(S^2_{L})$\n",
    "\n",
    "$S_{L}$: Size of the largest cluster<br>\n",
    "*Note: $S_L \\leq N$, where $N$: Total no. of customers*"
   ]
  },
  {
   "cell_type": "markdown",
   "metadata": {
    "slideshow": {
     "slide_type": "slide"
    }
   },
   "source": [
    "## The Most General VRP approach:\n",
    "An approach that can solve\n",
    "   - as many variants of VRP as possible, and\n",
    "   - deliver as large a set of customers as possible\n",
    "\n",
    "1. Take the configuration of the network of client nodes and the depots\n",
    "2. Cluster the network\n",
    "   Now the network is a collection of clusters\n",
    "3. Find the minimum number of vehicles necessary for all the deliveries. (Can be found by tuning the parameters: Radius ($\\epsilon$) and minPts ($\\gamma$))\n",
    "4. Find the optimal solution (path) by reducing the cost (distance, time or any other physical factor)"
   ]
  },
  {
   "cell_type": "markdown",
   "metadata": {
    "slideshow": {
     "slide_type": "slide"
    }
   },
   "source": [
    "## Conclusion\n",
    "- We need to be careful about how we formulate the problem, specifically **the number of variables we use**\n",
    "- The variables are mapped to qubits [[2](https://arxiv.org/pdf/1811.07403.pdf)]; number of variables ~ number of qubits\n",
    "- The **Solution Partition Solver** (SPS) uses the least number of qubits compared to other methods\n",
    "- For example: for 5 clients and 2 vehicles, SPS uses only around 25, our best approach of RAS uses around 50"
   ]
  },
  {
   "cell_type": "markdown",
   "metadata": {
    "slideshow": {
     "slide_type": "slide"
    }
   },
   "source": [
    "## Next steps\n",
    "  - Use techniques to achieve better accuracy for larger QUBO problems\n",
    "  - Incorporate solutions for other variants of the problem\n",
    "  - Make a circuit based algorithm from scratch (that does not use any application modules from any libraries) to solve VRP\n",
    "  - Find potential real life applications for VRP (for e.g. Supply Chain, Traffic Flow Optimization)\n"
   ]
  },
  {
   "cell_type": "markdown",
   "metadata": {
    "slideshow": {
     "slide_type": "slide"
    }
   },
   "source": [
    "## References\n",
    "[[1](https://github.com/VGGatGitHub/QOSF-cohort3)] The QOSF cohort - 3 project by Shantom, Aniket and Avneesh based on this topic<br>\n",
    "[[2](https://arxiv.org/pdf/1811.07403.pdf)] Sebastian Feld, et al. \"A Hybrid Solution Method for the Capacitated Vehicle Routing Problem Using a Quantum Annealer\"<br>\n",
    "[[3](https://faculty.math.illinois.edu/~mlavrov/slides/482-spring-2020/slides35.pdf)] Misha Lavrov's lecture on \"Travelling Salesman Problem\"<br>\n",
    "[[4](https://en.wikipedia.org/wiki/Vehicle_routing_problem)] Vehicle routing problem - Wikipedia<br>\n",
    "[[5](https://en.wikipedia.org/wiki/DBSCAN)] DBSCAN - Wikipedia\n"
   ]
  }
 ],
 "metadata": {
  "celltoolbar": "Slideshow",
  "interpreter": {
   "hash": "1fddfe479357b1ca97118c3a6342535a6e6159876c04dae960732da936488d33"
  },
  "kernelspec": {
   "display_name": "Python 3 (ipykernel)",
   "language": "python",
   "name": "python3"
  },
  "language_info": {
   "codemirror_mode": {
    "name": "ipython",
    "version": 3
   },
   "file_extension": ".py",
   "mimetype": "text/x-python",
   "name": "python",
   "nbconvert_exporter": "python",
   "pygments_lexer": "ipython3",
   "version": "3.9.7"
  }
 },
 "nbformat": 4,
 "nbformat_minor": 2
}
