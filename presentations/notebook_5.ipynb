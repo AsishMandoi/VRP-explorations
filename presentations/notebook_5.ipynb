{
 "cells": [
  {
   "cell_type": "markdown",
   "metadata": {
    "id": "hD6qB9nq39RR",
    "slideshow": {
     "slide_type": "slide"
    }
   },
   "source": [
    "# **Solving the Vehicle Routing Problem**\n",
    "*The Qubit Players*\n",
    "- QOSF Quantum Computing Mentorship Program 2021 Cohort - 4\n",
    "- Mentor: Dr. Vesselin G. Gueorguiev\n",
    "- Mentees: Arya Bhatta, Asish Kumar Mandoi"
   ]
  },
  {
   "cell_type": "markdown",
   "metadata": {
    "slideshow": {
     "slide_type": "slide"
    }
   },
   "source": [
    "## The Vehicle Routing Problem (VRP)\n",
    "- A combinatorial optimization and integer programming problem\n",
    "- Problem statement: ***What is the optimal set of routes for a fleet of vehicles to traverse in order to deliver to a given set of customers?***\n",
    "- Generalises **The Travelling Salesman Problem (TSP)**.\n",
    "- An NP-hard problem."
   ]
  },
  {
   "cell_type": "markdown",
   "metadata": {
    "slideshow": {
     "slide_type": "slide"
    }
   },
   "source": [
    "## How are we solving it?\n",
    "- Model the optimization problem using the QuadraticProgram class in `Qiskit`'s Optimization module\n",
    "- Convert this QuadraticProgram into a QUBO problem\n",
    "- Feed this QUBO problem to one of the Quantum Annealers provided by D-Wave\n",
    "- Multiple methods to solve the VRP\n",
    "- We specifically focussed on one particular method: **DBSCAN Solver**"
   ]
  },
  {
   "cell_type": "markdown",
   "metadata": {
    "slideshow": {
     "slide_type": "slide"
    }
   },
   "source": [
    "## Approach:\n",
    "\n",
    "#### 2 steps"
   ]
  },
  {
   "cell_type": "markdown",
   "metadata": {
    "slideshow": {
     "slide_type": "slide"
    }
   },
   "source": [
    "1. Clustering\n",
    "\n",
    "    - Various ways to cluster the set of nodes for e.g. **k-means clustering**\n",
    "    - We will look at a method called DBSCAN"
   ]
  },
  {
   "cell_type": "markdown",
   "metadata": {
    "slideshow": {
     "slide_type": "slide"
    }
   },
   "source": [
    "### Density-Based Spatial Clustering Of Applications with Noise (DBSCAN) Solver\n",
    "\n",
    "*DBSCAN is one of the most common clustering algorithms and also most cited in scientific literature.*\n",
    "\n",
    "<center><img src=\"./images/DBSCAN_illustration.png\" width=\"640\"></center>"
   ]
  },
  {
   "cell_type": "markdown",
   "metadata": {
    "slideshow": {
     "slide_type": "slide"
    }
   },
   "source": [
    "DBSCAN or Density-Based Spatial Clustering Of Applications with Noise\n",
    "\n",
    "Consider a set of points in some space to be clustered. Let $ε$ be a parameter specifying the radius of a neighborhood with respect to some point. For the purpose of DBSCAN clustering, the points are classified as core points, (density-) reachable points and outliers, as follows:\n",
    "\n",
    "- A point $p$ is a core point if at least minPts points are within distance $ε$ of it (including $p$).\n",
    "- A point $q$ is directly reachable from $p$ if point $q$ is within distance $ε$ from core point $p$. Points are only said to be directly reachable from core points.\n",
    "- A point $q$ is reachable from $p$ if there is a path $p_1, ..., p_n$ with $p_1 = p$ and $p_n = q$, where each $p_{i+1}$ is directly reachable from $p_i$. Note that this implies that the initial point and all points on the path must be core points, with the possible exception of $q$.\n",
    "- All points not reachable from any other point are outliers or noise points."
   ]
  },
  {
   "cell_type": "markdown",
   "metadata": {
    "slideshow": {
     "slide_type": "slide"
    }
   },
   "source": [
    "2. Solving TSP for individual clusters\n",
    "\n",
    "    Simply use a solver (like the Full QUBO Solver i.e. FQS) to solve the TSP."
   ]
  },
  {
   "cell_type": "markdown",
   "metadata": {
    "slideshow": {
     "slide_type": "slide"
    }
   },
   "source": [
    "### Assumptions\n",
    "\n",
    "1. There is only one depot\n",
    "2. All the nodes in a cluster is visited by one vehicle\n"
   ]
  },
  {
   "cell_type": "markdown",
   "metadata": {
    "slideshow": {
     "slide_type": "slide"
    }
   },
   "source": [
    "## A General VRP approach:\n",
    "1. Take the configuration of the network of client nodes and the depots\n",
    "2. Cluster the network\n",
    "   Now the network is a collection of clusters\n",
    "3. Find the minimum number of vehicles necessary for all the deliveries. Depending on this each cluster can be visited by one (or more) vehicles.\n",
    "4. Find the optimal solution (path) by reducing the cost (distance or time)"
   ]
  }
 ],
 "metadata": {
  "celltoolbar": "Slideshow",
  "kernelspec": {
   "display_name": "Python 3 (ipykernel)",
   "language": "python",
   "name": "python3"
  },
  "language_info": {
   "codemirror_mode": {
    "name": "ipython",
    "version": 3
   },
   "file_extension": ".py",
   "mimetype": "text/x-python",
   "name": "python",
   "nbconvert_exporter": "python",
   "pygments_lexer": "ipython3",
   "version": "3.9.7"
  }
 },
 "nbformat": 4,
 "nbformat_minor": 2
}
