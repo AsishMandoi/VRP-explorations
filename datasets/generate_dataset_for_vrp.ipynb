{
 "cells": [
  {
   "cell_type": "code",
   "execution_count": 1,
   "id": "d47c6802-5846-4830-ba6c-66a678e6ad13",
   "metadata": {},
   "outputs": [],
   "source": [
    "import numpy as np\n",
    "import pandas as pd"
   ]
  },
  {
   "cell_type": "code",
   "execution_count": 2,
   "id": "9308e40c-493e-4962-93b2-95c82d7b7c2b",
   "metadata": {},
   "outputs": [],
   "source": [
    "class Initializer:\n",
    "\n",
    "    def __init__(self, n, a, b):\n",
    "        self.n = n\n",
    "        self.a = a\n",
    "        self.b = b\n",
    "\n",
    "    def generate_nodes_and_weight_matrix(self):\n",
    "\n",
    "        n = self.n\n",
    "        a = self.a\n",
    "        b = self.b\n",
    "        \n",
    "        np.random.seed(100*a + b)\n",
    "\n",
    "        x = (np.random.rand(n) - 0.5) * 50\n",
    "        y = (np.random.rand(n) - 0.5) * 50\n",
    "\n",
    "        weight_matrix = np.zeros([n, n])\n",
    "        for i in range(n):\n",
    "            for j in range(i+1, n):\n",
    "                weight_matrix[i, j] = (x[i] - x[j]) ** 2 + (y[i] - y[j]) ** 2\n",
    "                weight_matrix[j, i] = weight_matrix[i, j]\n",
    "\n",
    "        return x, y, weight_matrix"
   ]
  },
  {
   "cell_type": "code",
   "execution_count": 3,
   "id": "f2a2505f-c24e-4ccd-a86f-9c66b3589b42",
   "metadata": {},
   "outputs": [],
   "source": [
    "for i in range(2,16):                        ### Here, (2,16) could be replaced with the some other range of no. of locations you want.\n",
    "    for j in range(10):                      ### Here, (10) could be replaced with some other number of instcnces you want to generate for a particular no. of locations.\n",
    "        initializer = Initializer(i, i, j)\n",
    "        x,y,weight_matrix = initializer.generate_nodes_and_weight_matrix()\n",
    "        df_x = pd.DataFrame(x)\n",
    "        df_y = pd.DataFrame(y)\n",
    "        df_wm = pd.DataFrame(weight_matrix)\n",
    "        with open (\"dataset.csv\", 'a') as f:\n",
    "            df = pd.concat([df_x, df_y, df_wm], keys = [\"x_\" + str(i) + '_' + str(j), \"y_\" + str(i) + '_' + str(j), \"wm_\" + str(i) + '_' + str(j)])\n",
    "            df.to_csv(f)"
   ]
  }
 ],
 "metadata": {
  "kernelspec": {
   "display_name": "Qiskit v0.29.0",
   "language": "python",
   "name": "python3"
  },
  "language_info": {
   "codemirror_mode": {
    "name": "ipython",
    "version": 3
   },
   "file_extension": ".py",
   "mimetype": "text/x-python",
   "name": "python",
   "nbconvert_exporter": "python",
   "pygments_lexer": "ipython3",
   "version": "3.9.7"
  },
  "widgets": {
   "application/vnd.jupyter.widget-state+json": {
    "state": {
     "077e48dacd4241a1bcb13cc6f04fe8c3": {
      "model_module": "@jupyter-widgets/controls",
      "model_module_version": "1.5.0",
      "model_name": "DescriptionStyleModel",
      "state": {
       "description_width": ""
      }
     },
     "0ccb960c96bd4cb0b550d285502f6f7e": {
      "model_module": "@jupyter-widgets/controls",
      "model_module_version": "1.5.0",
      "model_name": "DescriptionStyleModel",
      "state": {
       "description_width": ""
      }
     },
     "2139e56d73f04b5eb34d809be9bc6570": {
      "model_module": "@jupyter-widgets/base",
      "model_module_version": "1.2.0",
      "model_name": "LayoutModel",
      "state": {
       "margin": "0px 0px 10px 0px"
      }
     },
     "245cebcefbbf415bbea93cc356d8fac0": {
      "model_module": "@jupyter-widgets/controls",
      "model_module_version": "1.5.0",
      "model_name": "HTMLModel",
      "state": {
       "layout": "IPY_MODEL_d781a3ac6b164ca1980812c179848d57",
       "style": "IPY_MODEL_66065865fed4434383aece37ee7f339f",
       "value": "<h5>Status</h5>"
      }
     },
     "29adc2fb292f446ea618cda7b7c729ee": {
      "model_module": "@jupyter-widgets/controls",
      "model_module_version": "1.5.0",
      "model_name": "GridBoxModel",
      "state": {
       "children": [
        "IPY_MODEL_9e895d6266614f6e9818cdc666b909da"
       ],
       "layout": "IPY_MODEL_f588cad6d5bb474abe78c0a15f7004ae"
      }
     },
     "4625f7bfca024dac9a1b50a1e0faff48": {
      "model_module": "@jupyter-widgets/controls",
      "model_module_version": "1.5.0",
      "model_name": "HTMLModel",
      "state": {
       "layout": "IPY_MODEL_74dfc470cf60472496abe28f8746d360",
       "style": "IPY_MODEL_7daa150b7a4740d98e0403417538e6cb",
       "value": "<h5>Message</h5>"
      }
     },
     "4fe5fe099f6d4fc693dcd4ff60fbe70e": {
      "model_module": "@jupyter-widgets/base",
      "model_module_version": "1.2.0",
      "model_name": "LayoutModel",
      "state": {
       "width": "70px"
      }
     },
     "66065865fed4434383aece37ee7f339f": {
      "model_module": "@jupyter-widgets/controls",
      "model_module_version": "1.5.0",
      "model_name": "DescriptionStyleModel",
      "state": {
       "description_width": ""
      }
     },
     "72233de611af4579af4ec63e6e2ed2f7": {
      "model_module": "@jupyter-widgets/controls",
      "model_module_version": "1.5.0",
      "model_name": "HTMLModel",
      "state": {
       "layout": "IPY_MODEL_bdee412afa9846dd807883b72a804551",
       "style": "IPY_MODEL_0ccb960c96bd4cb0b550d285502f6f7e",
       "value": "<h5>Job ID</h5>"
      }
     },
     "74dfc470cf60472496abe28f8746d360": {
      "model_module": "@jupyter-widgets/base",
      "model_module_version": "1.2.0",
      "model_name": "LayoutModel",
      "state": {}
     },
     "7daa150b7a4740d98e0403417538e6cb": {
      "model_module": "@jupyter-widgets/controls",
      "model_module_version": "1.5.0",
      "model_name": "DescriptionStyleModel",
      "state": {
       "description_width": ""
      }
     },
     "7e9a6673d2da47dc911f04ccc2156b80": {
      "model_module": "@jupyter-widgets/controls",
      "model_module_version": "1.5.0",
      "model_name": "HTMLModel",
      "state": {
       "layout": "IPY_MODEL_d44f083eb17140b5b71e730a88b2f7a1",
       "style": "IPY_MODEL_baea0097e85a4a66bed9be4317a2026f",
       "value": "<h5>Backend</h5>"
      }
     },
     "942c9cca77d34d728a7d24ddd88bf229": {
      "model_module": "@jupyter-widgets/controls",
      "model_module_version": "1.5.0",
      "model_name": "HTMLModel",
      "state": {
       "layout": "IPY_MODEL_4fe5fe099f6d4fc693dcd4ff60fbe70e",
       "style": "IPY_MODEL_077e48dacd4241a1bcb13cc6f04fe8c3",
       "value": "<h5>Queue</h5>"
      }
     },
     "9e895d6266614f6e9818cdc666b909da": {
      "model_module": "@jupyter-widgets/controls",
      "model_module_version": "1.5.0",
      "model_name": "ButtonModel",
      "state": {
       "button_style": "primary",
       "description": "Clear",
       "layout": "IPY_MODEL_d6c683955ec14ccd8106bdc1fb7f67b1",
       "style": "IPY_MODEL_ab9ce09d7fd94ad7a7bf62246e496eb4"
      }
     },
     "a6aaa738e07641f69deaa2b5dfc6f09f": {
      "model_module": "@jupyter-widgets/controls",
      "model_module_version": "1.5.0",
      "model_name": "DescriptionStyleModel",
      "state": {
       "description_width": ""
      }
     },
     "ab9ce09d7fd94ad7a7bf62246e496eb4": {
      "model_module": "@jupyter-widgets/controls",
      "model_module_version": "1.5.0",
      "model_name": "ButtonStyleModel",
      "state": {}
     },
     "baea0097e85a4a66bed9be4317a2026f": {
      "model_module": "@jupyter-widgets/controls",
      "model_module_version": "1.5.0",
      "model_name": "DescriptionStyleModel",
      "state": {
       "description_width": ""
      }
     },
     "bdee412afa9846dd807883b72a804551": {
      "model_module": "@jupyter-widgets/base",
      "model_module_version": "1.2.0",
      "model_name": "LayoutModel",
      "state": {
       "width": "190px"
      }
     },
     "c74de40434c54b928b3d4b295bafdb41": {
      "model_module": "@jupyter-widgets/controls",
      "model_module_version": "1.5.0",
      "model_name": "HBoxModel",
      "state": {
       "children": [
        "IPY_MODEL_72233de611af4579af4ec63e6e2ed2f7",
        "IPY_MODEL_7e9a6673d2da47dc911f04ccc2156b80",
        "IPY_MODEL_245cebcefbbf415bbea93cc356d8fac0",
        "IPY_MODEL_942c9cca77d34d728a7d24ddd88bf229",
        "IPY_MODEL_4625f7bfca024dac9a1b50a1e0faff48"
       ],
       "layout": "IPY_MODEL_d7a3ec3b13674c4a98be2b964d41a3f6"
      }
     },
     "d44f083eb17140b5b71e730a88b2f7a1": {
      "model_module": "@jupyter-widgets/base",
      "model_module_version": "1.2.0",
      "model_name": "LayoutModel",
      "state": {
       "width": "145px"
      }
     },
     "d6c683955ec14ccd8106bdc1fb7f67b1": {
      "model_module": "@jupyter-widgets/base",
      "model_module_version": "1.2.0",
      "model_name": "LayoutModel",
      "state": {
       "grid_area": "right",
       "padding": "0px 0px 0px 0px",
       "width": "70px"
      }
     },
     "d781a3ac6b164ca1980812c179848d57": {
      "model_module": "@jupyter-widgets/base",
      "model_module_version": "1.2.0",
      "model_name": "LayoutModel",
      "state": {
       "width": "95px"
      }
     },
     "d7a3ec3b13674c4a98be2b964d41a3f6": {
      "model_module": "@jupyter-widgets/base",
      "model_module_version": "1.2.0",
      "model_name": "LayoutModel",
      "state": {
       "margin": "0px 0px 0px 37px",
       "width": "600px"
      }
     },
     "f588cad6d5bb474abe78c0a15f7004ae": {
      "model_module": "@jupyter-widgets/base",
      "model_module_version": "1.2.0",
      "model_name": "LayoutModel",
      "state": {
       "grid_template_areas": "\n                                       \". . . . right \"\n                                        ",
       "grid_template_columns": "20% 20% 20% 20% 20%",
       "width": "100%"
      }
     },
     "ffdb00faddb747588388de3f5333b709": {
      "model_module": "@jupyter-widgets/controls",
      "model_module_version": "1.5.0",
      "model_name": "HTMLModel",
      "state": {
       "layout": "IPY_MODEL_2139e56d73f04b5eb34d809be9bc6570",
       "style": "IPY_MODEL_a6aaa738e07641f69deaa2b5dfc6f09f",
       "value": "<p style='font-family: IBM Plex Sans, Arial, Helvetica, sans-serif; font-size: 20px; font-weight: medium;'>Circuit Properties</p>"
      }
     }
    },
    "version_major": 2,
    "version_minor": 0
   }
  }
 },
 "nbformat": 4,
 "nbformat_minor": 5
}
