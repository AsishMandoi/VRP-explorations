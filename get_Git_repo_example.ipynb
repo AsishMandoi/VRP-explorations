{
  "nbformat": 4,
  "nbformat_minor": 0,
  "metadata": {
    "kernelspec": {
      "display_name": "Python 3",
      "language": "python",
      "name": "python3"
    },
    "language_info": {
      "codemirror_mode": {
        "name": "ipython",
        "version": 3
      },
      "file_extension": ".py",
      "mimetype": "text/x-python",
      "name": "python",
      "nbconvert_exporter": "python",
      "pygments_lexer": "ipython3",
      "version": "3.7.8"
    },
    "colab": {
      "name": "get_Git_repo-example.ipynb",
      "provenance": [],
      "include_colab_link": true
    }
  },
  "cells": [
    {
      "cell_type": "markdown",
      "metadata": {
        "id": "view-in-github",
        "colab_type": "text"
      },
      "source": [
        "<a href=\"https://colab.research.google.com/github/VGGatGitHub/QOSF-cohort3/blob/main/get_Git_repo_example.ipynb\" target=\"_parent\"><img src=\"https://colab.research.google.com/assets/colab-badge.svg\" alt=\"Open In Colab\"/></a>"
      ]
    },
    {
      "cell_type": "code",
      "metadata": {
        "id": "Bid-PFMCng9T"
      },
      "source": [
        "#On IBM Q-exprince run this in the background \n",
        "#using the white tringle in the black circle to the left of the plus above \n",
        "#then take a look at the file 'get_Git_repo-example-background-results.ipynb'"
      ],
      "execution_count": null,
      "outputs": []
    },
    {
      "cell_type": "code",
      "metadata": {
        "id": "7Rs4m2pVng9T"
      },
      "source": [
        "%matplotlib inline\n",
        "# Importing standard Qiskit libraries and configuring account\n",
        "from qiskit import QuantumCircuit, execute, Aer, IBMQ\n",
        "from qiskit.compiler import transpile, assemble\n",
        "from qiskit.tools.jupyter import *\n",
        "from qiskit.visualization import *\n",
        "# Loading your IBM Q account(s)\n",
        "provider = IBMQ.load_account()"
      ],
      "execution_count": null,
      "outputs": []
    },
    {
      "cell_type": "code",
      "metadata": {
        "id": "aCGOuClOng9U"
      },
      "source": [
        "#if you need to pull from a private repo ask me for the details to do so \n",
        "RepoName='Entanglement-Revisited'\n",
        "#https://github.com/VGGatGitHub/Entanglement-Revisited\n",
        "RepoURL='https://github.com/VGGatGitHub/'+RepoName+'.git'\n",
        "#you can set up with if file and so on but let's do it quickly by hand!\n",
        "\n",
        "!git clone  https://github.com/VGGatGitHub/Entanglement-Revisited.git\n",
        "#!git pull https://github.com/VGGatGitHub/Entanglement-Revisited.git"
      ],
      "execution_count": null,
      "outputs": []
    },
    {
      "cell_type": "code",
      "metadata": {
        "id": "TjB3SEmSng9U"
      },
      "source": [
        "!ls -al"
      ],
      "execution_count": null,
      "outputs": []
    },
    {
      "cell_type": "code",
      "metadata": {
        "id": "k3rBFPGZng9U"
      },
      "source": [
        "!ls -al ./Entanglement-Revisited"
      ],
      "execution_count": null,
      "outputs": []
    },
    {
      "cell_type": "code",
      "metadata": {
        "id": "Bg2u7-7png9U"
      },
      "source": [
        "#look at where is your browser point now  ... \n",
        "#https://quantum-computing.ibm.com/jupyter/user/get_Git_repo-example.ipynb\n",
        "\n",
        "#in a different window change the nb name for various nbs \n",
        "\n",
        "#to see an html file\n",
        "#https://quantum-computing.ibm.com/jupyter/user/Entanglement-Revisited/Entanglement_Revisited-VGG.html\n",
        "\n",
        "#to open a notebook see below but don't try to run it - the Qisket version is outdated !\n",
        "#https://quantum-computing.ibm.com/jupyter/user/Entanglement-Revisited/Entanglement_Revisited-VGG.ipynb\n",
        "\n",
        "#if you have fixed the dependencies and got it running let me know!"
      ],
      "execution_count": null,
      "outputs": []
    },
    {
      "cell_type": "code",
      "metadata": {
        "id": "o-wRfXMLng9U"
      },
      "source": [
        "#uncoment %load line in the next cell at the first run to get the \"hello world\" loaded from first.py "
      ],
      "execution_count": null,
      "outputs": []
    },
    {
      "cell_type": "code",
      "metadata": {
        "id": "-VvYJqIang9U"
      },
      "source": [
        "%load ./Entanglement-Revisited/first.py"
      ],
      "execution_count": null,
      "outputs": []
    },
    {
      "cell_type": "code",
      "metadata": {
        "id": "xEorgosBng9U"
      },
      "source": [
        "# %load ./Entanglement-Revisited/first.py\n",
        "\n",
        "print(\"hello world\")\n",
        "\n",
        "str=\"*\"\n",
        "for i in range(5):\n",
        "    print(str)\n",
        "    str+=\"*\"  \n"
      ],
      "execution_count": null,
      "outputs": []
    },
    {
      "cell_type": "code",
      "metadata": {
        "id": "eSuMHu8Fng9U"
      },
      "source": [
        "#rmove the repo!\n",
        "!rm -f -r ./Entanglement-Revisited\n",
        "!ls -al ./Entanglement-Revisited\n",
        "!ls -al "
      ],
      "execution_count": null,
      "outputs": []
    },
    {
      "cell_type": "code",
      "metadata": {
        "id": "lK9Awxa5ng9U"
      },
      "source": [
        ""
      ],
      "execution_count": null,
      "outputs": []
    }
  ]
}